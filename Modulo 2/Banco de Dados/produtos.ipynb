{
 "cells": [
  {
   "cell_type": "markdown",
   "id": "5579583b",
   "metadata": {},
   "source": [
    "# criacao de banco de dados "
   ]
  },
  {
   "cell_type": "markdown",
   "id": "45e1841d",
   "metadata": {},
   "source": [
    "# banco de dados"
   ]
  },
  {
   "cell_type": "code",
   "execution_count": null,
   "id": "5f647a15",
   "metadata": {},
   "outputs": [],
   "source": [
    "import sqlite3"
   ]
  }
 ],
 "metadata": {
  "language_info": {
   "name": "python"
  }
 },
 "nbformat": 4,
 "nbformat_minor": 5
}
